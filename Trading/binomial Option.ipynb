{
 "cells": [
  {
   "cell_type": "code",
   "execution_count": 16,
   "metadata": {},
   "outputs": [],
   "source": [
    "import yfinance as yf\n",
    "import matplotlib.pyplot as plt"
   ]
  },
  {
   "cell_type": "code",
   "execution_count": 24,
   "metadata": {},
   "outputs": [],
   "source": [
    "# Define the stock symbol and option parameters\n",
    "stock_symbol = \"AAPL\"\n",
    "strike_price = 50.00\n",
    "expiration_days = 30  # Days until option expiration\n",
    "interest_rate = 0.058\n",
    "volatility = 0.24\n",
    "steps = 100  # Number of steps in the binomial tree\n"
   ]
  },
  {
   "cell_type": "code",
   "execution_count": 25,
   "metadata": {},
   "outputs": [],
   "source": [
    "# Fetch the stock data\n",
    "stock = yf.Ticker(stock_symbol)\n",
    "stock_data = stock.history(period=\"1d\", interval=\"1d\")  # Adjust period and interval as needed"
   ]
  },
  {
   "cell_type": "code",
   "execution_count": 26,
   "metadata": {},
   "outputs": [
    {
     "data": {
      "text/html": [
       "<div>\n",
       "<style scoped>\n",
       "    .dataframe tbody tr th:only-of-type {\n",
       "        vertical-align: middle;\n",
       "    }\n",
       "\n",
       "    .dataframe tbody tr th {\n",
       "        vertical-align: top;\n",
       "    }\n",
       "\n",
       "    .dataframe thead th {\n",
       "        text-align: right;\n",
       "    }\n",
       "</style>\n",
       "<table border=\"1\" class=\"dataframe\">\n",
       "  <thead>\n",
       "    <tr style=\"text-align: right;\">\n",
       "      <th></th>\n",
       "      <th>Open</th>\n",
       "      <th>High</th>\n",
       "      <th>Low</th>\n",
       "      <th>Close</th>\n",
       "      <th>Volume</th>\n",
       "      <th>Dividends</th>\n",
       "      <th>Stock Splits</th>\n",
       "    </tr>\n",
       "    <tr>\n",
       "      <th>Date</th>\n",
       "      <th></th>\n",
       "      <th></th>\n",
       "      <th></th>\n",
       "      <th></th>\n",
       "      <th></th>\n",
       "      <th></th>\n",
       "      <th></th>\n",
       "    </tr>\n",
       "  </thead>\n",
       "  <tbody>\n",
       "    <tr>\n",
       "      <th>2023-10-10 00:00:00-04:00</th>\n",
       "      <td>178.100006</td>\n",
       "      <td>179.720001</td>\n",
       "      <td>177.949997</td>\n",
       "      <td>178.389999</td>\n",
       "      <td>43664800</td>\n",
       "      <td>0.0</td>\n",
       "      <td>0.0</td>\n",
       "    </tr>\n",
       "  </tbody>\n",
       "</table>\n",
       "</div>"
      ],
      "text/plain": [
       "                                 Open        High         Low       Close  \\\n",
       "Date                                                                        \n",
       "2023-10-10 00:00:00-04:00  178.100006  179.720001  177.949997  178.389999   \n",
       "\n",
       "                             Volume  Dividends  Stock Splits  \n",
       "Date                                                          \n",
       "2023-10-10 00:00:00-04:00  43664800        0.0           0.0  "
      ]
     },
     "execution_count": 26,
     "metadata": {},
     "output_type": "execute_result"
    }
   ],
   "source": [
    "stock_data"
   ]
  },
  {
   "cell_type": "code",
   "execution_count": 27,
   "metadata": {},
   "outputs": [],
   "source": [
    "# Calculate daily returns\n",
    "daily_returns = stock_data['Close'].pct_change().dropna()"
   ]
  },
  {
   "cell_type": "code",
   "execution_count": 28,
   "metadata": {},
   "outputs": [],
   "source": [
    "# Calculate the daily risk-free rate\n",
    "daily_risk_free_rate = (1 + interest_rate) ** (1 / 252) - 1  # Assuming 252 trading days in a year\n"
   ]
  },
  {
   "cell_type": "code",
   "execution_count": 29,
   "metadata": {},
   "outputs": [],
   "source": [
    "# Calculate the parameters for the binomial model\n",
    "delta_t = expiration_days / steps\n",
    "u = 1 + (volatility * delta_t) ** 0.5\n",
    "d = 1 - (volatility * delta_t) ** 0.5"
   ]
  },
  {
   "cell_type": "code",
   "execution_count": 30,
   "metadata": {},
   "outputs": [],
   "source": [
    "# Initialize option price array and a list to store option prices over time\n",
    "option_prices = [0] * (steps + 1)\n",
    "option_prices_over_time = []\n",
    "\n",
    "# Calculate the option prices at expiration (step backward through the tree)\n",
    "for i in range(steps + 1):\n",
    "    stock_price = stock_data['Close'].iloc[-1] * (u ** (steps - i)) * (d ** i)\n",
    "    option_prices[i] = max(stock_price - strike_price, 0)\n",
    "    option_prices_over_time.append(option_prices.copy())\n",
    "\n",
    "# Work backward through the tree to calculate option prices at each step\n",
    "for step in range(steps, 0, -1):\n",
    "    for i in range(step):\n",
    "        option_prices[i] = (\n",
    "            (1 / (1 + daily_risk_free_rate))\n",
    "            * (0.5 * option_prices[i] + 0.5 * option_prices[i + 1])\n",
    "        )\n",
    "        option_prices_over_time.append(option_prices.copy())\n",
    "        \n"
   ]
  },
  {
   "cell_type": "code",
   "execution_count": 31,
   "metadata": {},
   "outputs": [],
   "source": [
    "# The final option price at the root node is the option's fair value\n",
    "binomial_option_price = option_prices[0]\n"
   ]
  },
  {
   "cell_type": "code",
   "execution_count": 32,
   "metadata": {},
   "outputs": [
    {
     "name": "stdout",
     "output_type": "stream",
     "text": [
      "Binomial Option Price: $159.62\n"
     ]
    }
   ],
   "source": [
    "print(f\"Binomial Option Price: ${binomial_option_price:.2f}\")"
   ]
  }
 ],
 "metadata": {
  "kernelspec": {
   "display_name": "Python 3",
   "language": "python",
   "name": "python3"
  },
  "language_info": {
   "codemirror_mode": {
    "name": "ipython",
    "version": 3
   },
   "file_extension": ".py",
   "mimetype": "text/x-python",
   "name": "python",
   "nbconvert_exporter": "python",
   "pygments_lexer": "ipython3",
   "version": "3.10.5"
  }
 },
 "nbformat": 4,
 "nbformat_minor": 2
}
