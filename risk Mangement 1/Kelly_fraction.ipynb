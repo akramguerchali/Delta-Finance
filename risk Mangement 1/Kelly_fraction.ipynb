{
 "cells": [
  {
   "cell_type": "code",
   "execution_count": 1,
   "metadata": {},
   "outputs": [],
   "source": [
    "import yfinance as yf\n",
    "import numpy as np\n"
   ]
  },
  {
   "cell_type": "code",
   "execution_count": 11,
   "metadata": {},
   "outputs": [
    {
     "name": "stdout",
     "output_type": "stream",
     "text": [
      "[*********************100%%**********************]  1 of 1 completed\n"
     ]
    }
   ],
   "source": [
    "# Define the ticker symbol and download historical data\n",
    "ticker_symbol = \"AAPL\"\n",
    "start_date = \"2023-01-01\"\n",
    "end_date = \"2023-12-31\"\n",
    "stock_data = yf.download(ticker_symbol, start=start_date, end=end_date)"
   ]
  },
  {
   "cell_type": "code",
   "execution_count": 26,
   "metadata": {},
   "outputs": [],
   "source": [
    "# Calculate the daily returns\n",
    "stock_data[\"Daily_Return\"] = stock_data[\"Adj Close\"].pct_change().dropna()\n",
    "\n",
    "# Calculate the mean and standard deviation of daily returns\n",
    "mean_return = stock_data[\"Daily_Return\"].mean()\n",
    "std_dev = stock_data[\"Daily_Return\"].std()\n"
   ]
  },
  {
   "cell_type": "code",
   "execution_count": 27,
   "metadata": {},
   "outputs": [
    {
     "data": {
      "text/html": [
       "<div>\n",
       "<style scoped>\n",
       "    .dataframe tbody tr th:only-of-type {\n",
       "        vertical-align: middle;\n",
       "    }\n",
       "\n",
       "    .dataframe tbody tr th {\n",
       "        vertical-align: top;\n",
       "    }\n",
       "\n",
       "    .dataframe thead th {\n",
       "        text-align: right;\n",
       "    }\n",
       "</style>\n",
       "<table border=\"1\" class=\"dataframe\">\n",
       "  <thead>\n",
       "    <tr style=\"text-align: right;\">\n",
       "      <th></th>\n",
       "      <th>Open</th>\n",
       "      <th>High</th>\n",
       "      <th>Low</th>\n",
       "      <th>Close</th>\n",
       "      <th>Adj Close</th>\n",
       "      <th>Volume</th>\n",
       "      <th>Daily_Return</th>\n",
       "    </tr>\n",
       "    <tr>\n",
       "      <th>Date</th>\n",
       "      <th></th>\n",
       "      <th></th>\n",
       "      <th></th>\n",
       "      <th></th>\n",
       "      <th></th>\n",
       "      <th></th>\n",
       "      <th></th>\n",
       "    </tr>\n",
       "  </thead>\n",
       "  <tbody>\n",
       "    <tr>\n",
       "      <th>2023-01-04</th>\n",
       "      <td>126.889999</td>\n",
       "      <td>128.660004</td>\n",
       "      <td>125.080002</td>\n",
       "      <td>126.360001</td>\n",
       "      <td>125.823189</td>\n",
       "      <td>89113600</td>\n",
       "      <td>0.010314</td>\n",
       "    </tr>\n",
       "    <tr>\n",
       "      <th>2023-01-05</th>\n",
       "      <td>127.129997</td>\n",
       "      <td>127.769997</td>\n",
       "      <td>124.760002</td>\n",
       "      <td>125.019997</td>\n",
       "      <td>124.488876</td>\n",
       "      <td>80962700</td>\n",
       "      <td>-0.010605</td>\n",
       "    </tr>\n",
       "    <tr>\n",
       "      <th>2023-01-06</th>\n",
       "      <td>126.010002</td>\n",
       "      <td>130.289993</td>\n",
       "      <td>124.889999</td>\n",
       "      <td>129.619995</td>\n",
       "      <td>129.069321</td>\n",
       "      <td>87754700</td>\n",
       "      <td>0.036794</td>\n",
       "    </tr>\n",
       "    <tr>\n",
       "      <th>2023-01-09</th>\n",
       "      <td>130.470001</td>\n",
       "      <td>133.410004</td>\n",
       "      <td>129.889999</td>\n",
       "      <td>130.149994</td>\n",
       "      <td>129.597061</td>\n",
       "      <td>70790800</td>\n",
       "      <td>0.004089</td>\n",
       "    </tr>\n",
       "    <tr>\n",
       "      <th>2023-01-10</th>\n",
       "      <td>130.259995</td>\n",
       "      <td>131.259995</td>\n",
       "      <td>128.119995</td>\n",
       "      <td>130.729996</td>\n",
       "      <td>130.174606</td>\n",
       "      <td>63896200</td>\n",
       "      <td>0.004456</td>\n",
       "    </tr>\n",
       "    <tr>\n",
       "      <th>...</th>\n",
       "      <td>...</td>\n",
       "      <td>...</td>\n",
       "      <td>...</td>\n",
       "      <td>...</td>\n",
       "      <td>...</td>\n",
       "      <td>...</td>\n",
       "      <td>...</td>\n",
       "    </tr>\n",
       "    <tr>\n",
       "      <th>2023-10-19</th>\n",
       "      <td>176.039993</td>\n",
       "      <td>177.839996</td>\n",
       "      <td>175.190002</td>\n",
       "      <td>175.460007</td>\n",
       "      <td>175.460007</td>\n",
       "      <td>59302900</td>\n",
       "      <td>-0.002161</td>\n",
       "    </tr>\n",
       "    <tr>\n",
       "      <th>2023-10-20</th>\n",
       "      <td>175.309998</td>\n",
       "      <td>175.419998</td>\n",
       "      <td>172.639999</td>\n",
       "      <td>172.880005</td>\n",
       "      <td>172.880005</td>\n",
       "      <td>64189300</td>\n",
       "      <td>-0.014704</td>\n",
       "    </tr>\n",
       "    <tr>\n",
       "      <th>2023-10-23</th>\n",
       "      <td>170.910004</td>\n",
       "      <td>174.009995</td>\n",
       "      <td>169.929993</td>\n",
       "      <td>173.000000</td>\n",
       "      <td>173.000000</td>\n",
       "      <td>55980100</td>\n",
       "      <td>0.000694</td>\n",
       "    </tr>\n",
       "    <tr>\n",
       "      <th>2023-10-24</th>\n",
       "      <td>173.050003</td>\n",
       "      <td>173.669998</td>\n",
       "      <td>171.449997</td>\n",
       "      <td>173.440002</td>\n",
       "      <td>173.440002</td>\n",
       "      <td>43816600</td>\n",
       "      <td>0.002543</td>\n",
       "    </tr>\n",
       "    <tr>\n",
       "      <th>2023-10-25</th>\n",
       "      <td>171.880005</td>\n",
       "      <td>173.059998</td>\n",
       "      <td>170.649994</td>\n",
       "      <td>171.100006</td>\n",
       "      <td>171.100006</td>\n",
       "      <td>53296996</td>\n",
       "      <td>-0.013492</td>\n",
       "    </tr>\n",
       "  </tbody>\n",
       "</table>\n",
       "<p>204 rows × 7 columns</p>\n",
       "</div>"
      ],
      "text/plain": [
       "                  Open        High         Low       Close   Adj Close  \\\n",
       "Date                                                                     \n",
       "2023-01-04  126.889999  128.660004  125.080002  126.360001  125.823189   \n",
       "2023-01-05  127.129997  127.769997  124.760002  125.019997  124.488876   \n",
       "2023-01-06  126.010002  130.289993  124.889999  129.619995  129.069321   \n",
       "2023-01-09  130.470001  133.410004  129.889999  130.149994  129.597061   \n",
       "2023-01-10  130.259995  131.259995  128.119995  130.729996  130.174606   \n",
       "...                ...         ...         ...         ...         ...   \n",
       "2023-10-19  176.039993  177.839996  175.190002  175.460007  175.460007   \n",
       "2023-10-20  175.309998  175.419998  172.639999  172.880005  172.880005   \n",
       "2023-10-23  170.910004  174.009995  169.929993  173.000000  173.000000   \n",
       "2023-10-24  173.050003  173.669998  171.449997  173.440002  173.440002   \n",
       "2023-10-25  171.880005  173.059998  170.649994  171.100006  171.100006   \n",
       "\n",
       "              Volume  Daily_Return  \n",
       "Date                                \n",
       "2023-01-04  89113600      0.010314  \n",
       "2023-01-05  80962700     -0.010605  \n",
       "2023-01-06  87754700      0.036794  \n",
       "2023-01-09  70790800      0.004089  \n",
       "2023-01-10  63896200      0.004456  \n",
       "...              ...           ...  \n",
       "2023-10-19  59302900     -0.002161  \n",
       "2023-10-20  64189300     -0.014704  \n",
       "2023-10-23  55980100      0.000694  \n",
       "2023-10-24  43816600      0.002543  \n",
       "2023-10-25  53296996     -0.013492  \n",
       "\n",
       "[204 rows x 7 columns]"
      ]
     },
     "execution_count": 27,
     "metadata": {},
     "output_type": "execute_result"
    }
   ],
   "source": [
    "stock_data.dropna()"
   ]
  },
  {
   "cell_type": "code",
   "execution_count": 28,
   "metadata": {},
   "outputs": [],
   "source": [
    "# Specify the risk-free rate (e.g., U.S. Treasury yield)\n",
    "risk_free_rate = 0.049  # 1%\n",
    "\n",
    "# Calculate the Kelly Criterion fraction\n",
    "kelly_fraction = (mean_return - risk_free_rate) / (std_dev ** 2)"
   ]
  },
  {
   "cell_type": "code",
   "execution_count": 29,
   "metadata": {},
   "outputs": [
    {
     "data": {
      "text/plain": [
       "-277.2370554173527"
      ]
     },
     "execution_count": 29,
     "metadata": {},
     "output_type": "execute_result"
    }
   ],
   "source": [
    "kelly_fraction"
   ]
  },
  {
   "cell_type": "code",
   "execution_count": 30,
   "metadata": {},
   "outputs": [],
   "source": [
    "# Calculate the optimal fraction of capital to invest\n",
    "optimal_fraction = kelly_fraction\n",
    "if optimal_fraction < 0:\n",
    "    optimal_fraction = 0  # Avoid negative fractions\n",
    "\n",
    "# Total capital available for trading\n",
    "total_capital = 10000  # $10,000\n",
    "\n",
    "# Calculate the capital to allocate to the trade\n",
    "capital_to_allocate = optimal_fraction * total_capital"
   ]
  },
  {
   "cell_type": "code",
   "execution_count": 25,
   "metadata": {},
   "outputs": [
    {
     "name": "stdout",
     "output_type": "stream",
     "text": [
      "Optimal Fraction (Kelly Criterion): 0.5796\n",
      "Capital to Allocate: $5796.19\n"
     ]
    }
   ],
   "source": [
    "# Output the optimal fraction and capital to allocate\n",
    "print(f\"Optimal Fraction (Kelly Criterion): {optimal_fraction:.4f}\")\n",
    "print(f\"Capital to Allocate: ${capital_to_allocate:.2f}\")"
   ]
  }
 ],
 "metadata": {
  "kernelspec": {
   "display_name": "Python 3",
   "language": "python",
   "name": "python3"
  },
  "language_info": {
   "codemirror_mode": {
    "name": "ipython",
    "version": 3
   },
   "file_extension": ".py",
   "mimetype": "text/x-python",
   "name": "python",
   "nbconvert_exporter": "python",
   "pygments_lexer": "ipython3",
   "version": "3.10.5"
  }
 },
 "nbformat": 4,
 "nbformat_minor": 2
}
