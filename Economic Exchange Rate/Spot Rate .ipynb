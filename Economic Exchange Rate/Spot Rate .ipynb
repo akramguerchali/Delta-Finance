{
 "cells": [
  {
   "cell_type": "code",
   "execution_count": 47,
   "id": "f3572fe9",
   "metadata": {},
   "outputs": [
    {
     "name": "stdout",
     "output_type": "stream",
     "text": [
      "Requirement already satisfied: yfinance in c:\\users\\akram\\anaconda3\\lib\\site-packages (0.2.31)\n",
      "Requirement already satisfied: lxml>=4.9.1 in c:\\users\\akram\\anaconda3\\lib\\site-packages (from yfinance) (4.9.1)\n",
      "Requirement already satisfied: beautifulsoup4>=4.11.1 in c:\\users\\akram\\anaconda3\\lib\\site-packages (from yfinance) (4.11.1)\n",
      "Requirement already satisfied: frozendict>=2.3.4 in c:\\users\\akram\\anaconda3\\lib\\site-packages (from yfinance) (2.3.8)\n",
      "Requirement already satisfied: pandas>=1.3.0 in c:\\users\\akram\\anaconda3\\lib\\site-packages (from yfinance) (1.4.4)\n",
      "Requirement already satisfied: html5lib>=1.1 in c:\\users\\akram\\anaconda3\\lib\\site-packages (from yfinance) (1.1)\n",
      "Requirement already satisfied: peewee>=3.16.2 in c:\\users\\akram\\anaconda3\\lib\\site-packages (from yfinance) (3.17.0)\n",
      "Requirement already satisfied: multitasking>=0.0.7 in c:\\users\\akram\\anaconda3\\lib\\site-packages (from yfinance) (0.0.11)\n",
      "Requirement already satisfied: requests>=2.31 in c:\\users\\akram\\anaconda3\\lib\\site-packages (from yfinance) (2.31.0)\n",
      "Requirement already satisfied: numpy>=1.16.5 in c:\\users\\akram\\anaconda3\\lib\\site-packages (from yfinance) (1.21.5)\n",
      "Requirement already satisfied: pytz>=2022.5 in c:\\users\\akram\\anaconda3\\lib\\site-packages (from yfinance) (2023.3.post1)\n",
      "Requirement already satisfied: appdirs>=1.4.4 in c:\\users\\akram\\anaconda3\\lib\\site-packages (from yfinance) (1.4.4)\n",
      "Requirement already satisfied: soupsieve>1.2 in c:\\users\\akram\\anaconda3\\lib\\site-packages (from beautifulsoup4>=4.11.1->yfinance) (2.3.1)\n",
      "Requirement already satisfied: webencodings in c:\\users\\akram\\anaconda3\\lib\\site-packages (from html5lib>=1.1->yfinance) (0.5.1)\n",
      "Requirement already satisfied: six>=1.9 in c:\\users\\akram\\anaconda3\\lib\\site-packages (from html5lib>=1.1->yfinance) (1.16.0)\n",
      "Requirement already satisfied: python-dateutil>=2.8.1 in c:\\users\\akram\\anaconda3\\lib\\site-packages (from pandas>=1.3.0->yfinance) (2.8.2)\n",
      "Requirement already satisfied: idna<4,>=2.5 in c:\\users\\akram\\anaconda3\\lib\\site-packages (from requests>=2.31->yfinance) (3.3)\n",
      "Requirement already satisfied: urllib3<3,>=1.21.1 in c:\\users\\akram\\anaconda3\\lib\\site-packages (from requests>=2.31->yfinance) (1.26.11)\n",
      "Requirement already satisfied: charset-normalizer<4,>=2 in c:\\users\\akram\\anaconda3\\lib\\site-packages (from requests>=2.31->yfinance) (2.0.4)\n",
      "Requirement already satisfied: certifi>=2017.4.17 in c:\\users\\akram\\anaconda3\\lib\\site-packages (from requests>=2.31->yfinance) (2022.9.14)\n"
     ]
    }
   ],
   "source": [
    "! pip install yfinance "
   ]
  },
  {
   "cell_type": "markdown",
   "id": "00635d75",
   "metadata": {},
   "source": [
    "# The Spot Rate Cross Exchange Rates and Percentage Changes"
   ]
  },
  {
   "cell_type": "code",
   "execution_count": 48,
   "id": "b4efb2da",
   "metadata": {},
   "outputs": [],
   "source": [
    "import yfinance as yf\n",
    "import pandas as pd \n",
    "import numpy as np\n",
    "from datetime import datetime, timedelta"
   ]
  },
  {
   "cell_type": "code",
   "execution_count": 49,
   "id": "3552fdf4",
   "metadata": {},
   "outputs": [],
   "source": [
    "Ticker = 'USDEUR=X'\n",
    "start_date = '2023-01-01'\n",
    "end_date= '2023-12-31'"
   ]
  },
  {
   "cell_type": "code",
   "execution_count": 50,
   "id": "838528da",
   "metadata": {},
   "outputs": [
    {
     "name": "stdout",
     "output_type": "stream",
     "text": [
      "[*********************100%%**********************]  1 of 1 completed\n"
     ]
    }
   ],
   "source": [
    "data = yf.download(Ticker, start=start_date, end=end_date)"
   ]
  },
  {
   "cell_type": "code",
   "execution_count": 51,
   "id": "0e46f949",
   "metadata": {},
   "outputs": [
    {
     "data": {
      "text/html": [
       "<div>\n",
       "<style scoped>\n",
       "    .dataframe tbody tr th:only-of-type {\n",
       "        vertical-align: middle;\n",
       "    }\n",
       "\n",
       "    .dataframe tbody tr th {\n",
       "        vertical-align: top;\n",
       "    }\n",
       "\n",
       "    .dataframe thead th {\n",
       "        text-align: right;\n",
       "    }\n",
       "</style>\n",
       "<table border=\"1\" class=\"dataframe\">\n",
       "  <thead>\n",
       "    <tr style=\"text-align: right;\">\n",
       "      <th></th>\n",
       "      <th>Open</th>\n",
       "      <th>High</th>\n",
       "      <th>Low</th>\n",
       "      <th>Close</th>\n",
       "      <th>Adj Close</th>\n",
       "      <th>Volume</th>\n",
       "    </tr>\n",
       "    <tr>\n",
       "      <th>Date</th>\n",
       "      <th></th>\n",
       "      <th></th>\n",
       "      <th></th>\n",
       "      <th></th>\n",
       "      <th></th>\n",
       "      <th></th>\n",
       "    </tr>\n",
       "  </thead>\n",
       "  <tbody>\n",
       "    <tr>\n",
       "      <th>2023-01-02</th>\n",
       "      <td>0.93373</td>\n",
       "      <td>0.93868</td>\n",
       "      <td>0.93350</td>\n",
       "      <td>0.93373</td>\n",
       "      <td>0.93373</td>\n",
       "      <td>0</td>\n",
       "    </tr>\n",
       "    <tr>\n",
       "      <th>2023-01-03</th>\n",
       "      <td>0.93653</td>\n",
       "      <td>0.95043</td>\n",
       "      <td>0.93610</td>\n",
       "      <td>0.93653</td>\n",
       "      <td>0.93653</td>\n",
       "      <td>0</td>\n",
       "    </tr>\n",
       "    <tr>\n",
       "      <th>2023-01-04</th>\n",
       "      <td>0.94815</td>\n",
       "      <td>0.94823</td>\n",
       "      <td>0.94060</td>\n",
       "      <td>0.94815</td>\n",
       "      <td>0.94815</td>\n",
       "      <td>0</td>\n",
       "    </tr>\n",
       "    <tr>\n",
       "      <th>2023-01-05</th>\n",
       "      <td>0.94283</td>\n",
       "      <td>0.95097</td>\n",
       "      <td>0.94050</td>\n",
       "      <td>0.94283</td>\n",
       "      <td>0.94283</td>\n",
       "      <td>0</td>\n",
       "    </tr>\n",
       "    <tr>\n",
       "      <th>2023-01-06</th>\n",
       "      <td>0.95037</td>\n",
       "      <td>0.95372</td>\n",
       "      <td>0.94142</td>\n",
       "      <td>0.95037</td>\n",
       "      <td>0.95037</td>\n",
       "      <td>0</td>\n",
       "    </tr>\n",
       "    <tr>\n",
       "      <th>...</th>\n",
       "      <td>...</td>\n",
       "      <td>...</td>\n",
       "      <td>...</td>\n",
       "      <td>...</td>\n",
       "      <td>...</td>\n",
       "      <td>...</td>\n",
       "    </tr>\n",
       "    <tr>\n",
       "      <th>2023-10-24</th>\n",
       "      <td>0.93722</td>\n",
       "      <td>0.94480</td>\n",
       "      <td>0.93541</td>\n",
       "      <td>0.93722</td>\n",
       "      <td>0.93722</td>\n",
       "      <td>0</td>\n",
       "    </tr>\n",
       "    <tr>\n",
       "      <th>2023-10-25</th>\n",
       "      <td>0.94381</td>\n",
       "      <td>0.94636</td>\n",
       "      <td>0.94280</td>\n",
       "      <td>0.94381</td>\n",
       "      <td>0.94381</td>\n",
       "      <td>0</td>\n",
       "    </tr>\n",
       "    <tr>\n",
       "      <th>2023-10-26</th>\n",
       "      <td>0.94632</td>\n",
       "      <td>0.95000</td>\n",
       "      <td>0.94610</td>\n",
       "      <td>0.94632</td>\n",
       "      <td>0.94632</td>\n",
       "      <td>0</td>\n",
       "    </tr>\n",
       "    <tr>\n",
       "      <th>2023-10-27</th>\n",
       "      <td>0.94657</td>\n",
       "      <td>0.94910</td>\n",
       "      <td>0.94360</td>\n",
       "      <td>0.94657</td>\n",
       "      <td>0.94657</td>\n",
       "      <td>0</td>\n",
       "    </tr>\n",
       "    <tr>\n",
       "      <th>2023-10-30</th>\n",
       "      <td>0.94580</td>\n",
       "      <td>0.94780</td>\n",
       "      <td>0.94090</td>\n",
       "      <td>0.94170</td>\n",
       "      <td>0.94170</td>\n",
       "      <td>0</td>\n",
       "    </tr>\n",
       "  </tbody>\n",
       "</table>\n",
       "<p>216 rows × 6 columns</p>\n",
       "</div>"
      ],
      "text/plain": [
       "               Open     High      Low    Close  Adj Close  Volume\n",
       "Date                                                             \n",
       "2023-01-02  0.93373  0.93868  0.93350  0.93373    0.93373       0\n",
       "2023-01-03  0.93653  0.95043  0.93610  0.93653    0.93653       0\n",
       "2023-01-04  0.94815  0.94823  0.94060  0.94815    0.94815       0\n",
       "2023-01-05  0.94283  0.95097  0.94050  0.94283    0.94283       0\n",
       "2023-01-06  0.95037  0.95372  0.94142  0.95037    0.95037       0\n",
       "...             ...      ...      ...      ...        ...     ...\n",
       "2023-10-24  0.93722  0.94480  0.93541  0.93722    0.93722       0\n",
       "2023-10-25  0.94381  0.94636  0.94280  0.94381    0.94381       0\n",
       "2023-10-26  0.94632  0.95000  0.94610  0.94632    0.94632       0\n",
       "2023-10-27  0.94657  0.94910  0.94360  0.94657    0.94657       0\n",
       "2023-10-30  0.94580  0.94780  0.94090  0.94170    0.94170       0\n",
       "\n",
       "[216 rows x 6 columns]"
      ]
     },
     "execution_count": 51,
     "metadata": {},
     "output_type": "execute_result"
    }
   ],
   "source": [
    "data"
   ]
  },
  {
   "cell_type": "code",
   "execution_count": 52,
   "id": "74a3a45f",
   "metadata": {},
   "outputs": [],
   "source": [
    "end_date_0 = datetime.now()\n",
    "start_date_0 = end_date_0 - timedelta(days=365)"
   ]
  },
  {
   "cell_type": "code",
   "execution_count": 53,
   "id": "118e2144",
   "metadata": {},
   "outputs": [
    {
     "name": "stdout",
     "output_type": "stream",
     "text": [
      "[*********************100%%**********************]  1 of 1 completed\n"
     ]
    }
   ],
   "source": [
    "exchange_rate_date_0 = yf.download(Ticker, start=start_date_0, end=end_date_0)"
   ]
  },
  {
   "cell_type": "code",
   "execution_count": 54,
   "id": "b35a2c65",
   "metadata": {},
   "outputs": [],
   "source": [
    "spot_exchange_rate_0 = exchange_rate_date_0['Adj Close'].iloc[-1]"
   ]
  },
  {
   "cell_type": "code",
   "execution_count": 55,
   "id": "511140d3",
   "metadata": {},
   "outputs": [
    {
     "data": {
      "text/plain": [
       "0.9416999816894531"
      ]
     },
     "execution_count": 55,
     "metadata": {},
     "output_type": "execute_result"
    }
   ],
   "source": [
    "spot_exchange_rate_0"
   ]
  },
  {
   "cell_type": "code",
   "execution_count": 56,
   "id": "e636178f",
   "metadata": {},
   "outputs": [],
   "source": [
    "# Define nominal interest rates for the home (EUR) and foreign (USD) countries\n",
    "nominal_interest_rate_home_0 = 0.035 # Example: 1% nominal interest rate in EUR\n",
    "nominal_interest_rate_foreign_0 = 0.052 # Example: 2% nominal interest rate in USD\n"
   ]
  },
  {
   "cell_type": "code",
   "execution_count": 57,
   "id": "bb5209e9",
   "metadata": {},
   "outputs": [],
   "source": [
    "# Calculate the expected future exchange rate (EUR/USD) using the IFE formula\n",
    "current_exchange_rate = exchange_rate_date_0['Adj Close'].iloc[0]  # Use the first day's rate\n",
    "expected_exchange_rate = current_exchange_rate * (1 + nominal_interest_rate_foreign_0) / (1 + nominal_interest_rate_home_0)\n"
   ]
  },
  {
   "cell_type": "code",
   "execution_count": 58,
   "id": "c0e67ecb",
   "metadata": {},
   "outputs": [
    {
     "name": "stdout",
     "output_type": "stream",
     "text": [
      "Expected future USD/EUR exchange rate: 1.0210\n"
     ]
    }
   ],
   "source": [
    "print(f\"Expected future USD/EUR exchange rate: {expected_exchange_rate:.4f}\")"
   ]
  },
  {
   "cell_type": "code",
   "execution_count": 59,
   "id": "71e103d0",
   "metadata": {},
   "outputs": [],
   "source": [
    "Ticker_1 = 'CHFUSD=X'\n",
    "start_date_1 = '2023-01-01'\n",
    "end_date_1 ='2023-12-31'"
   ]
  },
  {
   "cell_type": "code",
   "execution_count": 60,
   "id": "bb0461cf",
   "metadata": {},
   "outputs": [
    {
     "name": "stdout",
     "output_type": "stream",
     "text": [
      "[*********************100%%**********************]  1 of 1 completed\n"
     ]
    }
   ],
   "source": [
    "data_1 = yf.download(Ticker_1, start=start_date_1, end=end_date_1)"
   ]
  },
  {
   "cell_type": "code",
   "execution_count": 61,
   "id": "c186f43c",
   "metadata": {},
   "outputs": [
    {
     "data": {
      "text/html": [
       "<div>\n",
       "<style scoped>\n",
       "    .dataframe tbody tr th:only-of-type {\n",
       "        vertical-align: middle;\n",
       "    }\n",
       "\n",
       "    .dataframe tbody tr th {\n",
       "        vertical-align: top;\n",
       "    }\n",
       "\n",
       "    .dataframe thead th {\n",
       "        text-align: right;\n",
       "    }\n",
       "</style>\n",
       "<table border=\"1\" class=\"dataframe\">\n",
       "  <thead>\n",
       "    <tr style=\"text-align: right;\">\n",
       "      <th></th>\n",
       "      <th>Open</th>\n",
       "      <th>High</th>\n",
       "      <th>Low</th>\n",
       "      <th>Close</th>\n",
       "      <th>Adj Close</th>\n",
       "      <th>Volume</th>\n",
       "    </tr>\n",
       "    <tr>\n",
       "      <th>Date</th>\n",
       "      <th></th>\n",
       "      <th></th>\n",
       "      <th></th>\n",
       "      <th></th>\n",
       "      <th></th>\n",
       "      <th></th>\n",
       "    </tr>\n",
       "  </thead>\n",
       "  <tbody>\n",
       "    <tr>\n",
       "      <th>2023-10-24</th>\n",
       "      <td>1.122838</td>\n",
       "      <td>1.125075</td>\n",
       "      <td>1.117568</td>\n",
       "      <td>1.122838</td>\n",
       "      <td>1.122838</td>\n",
       "      <td>0</td>\n",
       "    </tr>\n",
       "    <tr>\n",
       "      <th>2023-10-25</th>\n",
       "      <td>1.119746</td>\n",
       "      <td>1.121202</td>\n",
       "      <td>1.115573</td>\n",
       "      <td>1.119746</td>\n",
       "      <td>1.119746</td>\n",
       "      <td>0</td>\n",
       "    </tr>\n",
       "    <tr>\n",
       "      <th>2023-10-26</th>\n",
       "      <td>1.115200</td>\n",
       "      <td>1.115573</td>\n",
       "      <td>1.111198</td>\n",
       "      <td>1.115200</td>\n",
       "      <td>1.115200</td>\n",
       "      <td>0</td>\n",
       "    </tr>\n",
       "    <tr>\n",
       "      <th>2023-10-27</th>\n",
       "      <td>1.112557</td>\n",
       "      <td>1.113586</td>\n",
       "      <td>1.106929</td>\n",
       "      <td>1.112557</td>\n",
       "      <td>1.112557</td>\n",
       "      <td>0</td>\n",
       "    </tr>\n",
       "    <tr>\n",
       "      <th>2023-10-30</th>\n",
       "      <td>1.109139</td>\n",
       "      <td>1.111173</td>\n",
       "      <td>1.105143</td>\n",
       "      <td>1.109152</td>\n",
       "      <td>1.109152</td>\n",
       "      <td>0</td>\n",
       "    </tr>\n",
       "  </tbody>\n",
       "</table>\n",
       "</div>"
      ],
      "text/plain": [
       "                Open      High       Low     Close  Adj Close  Volume\n",
       "Date                                                                 \n",
       "2023-10-24  1.122838  1.125075  1.117568  1.122838   1.122838       0\n",
       "2023-10-25  1.119746  1.121202  1.115573  1.119746   1.119746       0\n",
       "2023-10-26  1.115200  1.115573  1.111198  1.115200   1.115200       0\n",
       "2023-10-27  1.112557  1.113586  1.106929  1.112557   1.112557       0\n",
       "2023-10-30  1.109139  1.111173  1.105143  1.109152   1.109152       0"
      ]
     },
     "execution_count": 61,
     "metadata": {},
     "output_type": "execute_result"
    }
   ],
   "source": [
    "data_1.tail()"
   ]
  },
  {
   "cell_type": "code",
   "execution_count": 62,
   "id": "5790d55b",
   "metadata": {},
   "outputs": [],
   "source": [
    "end_date_1 = datetime.now()\n",
    "start_date_1 = end_date_1 - timedelta(days=365)"
   ]
  },
  {
   "cell_type": "code",
   "execution_count": 63,
   "id": "5d2c8c6c",
   "metadata": {},
   "outputs": [
    {
     "name": "stdout",
     "output_type": "stream",
     "text": [
      "[*********************100%%**********************]  1 of 1 completed\n"
     ]
    }
   ],
   "source": [
    "exchange_rate_date_1 = yf.download(Ticker_1, start=start_date_1, end=end_date_1)"
   ]
  },
  {
   "cell_type": "code",
   "execution_count": 64,
   "id": "f74b6418",
   "metadata": {},
   "outputs": [],
   "source": [
    "spot_exchange_rate_1 = exchange_rate_date_1['Adj Close'].iloc[-1]"
   ]
  },
  {
   "cell_type": "code",
   "execution_count": 65,
   "id": "abe32c52",
   "metadata": {},
   "outputs": [
    {
     "data": {
      "text/plain": [
       "1.109004020690918"
      ]
     },
     "execution_count": 65,
     "metadata": {},
     "output_type": "execute_result"
    }
   ],
   "source": [
    "spot_exchange_rate_1"
   ]
  },
  {
   "cell_type": "code",
   "execution_count": 66,
   "id": "04222e35",
   "metadata": {},
   "outputs": [],
   "source": [
    "# Define nominal interest rates for the home (EUR) and foreign (USD) countries\n",
    "nominal_interest_rate_home_1 = 0.017  # Example: 1% nominal interest rate in CHF\n",
    "nominal_interest_rate_foreign_1 = 0.052  # Example: 2% nominal interest rate in USD"
   ]
  },
  {
   "cell_type": "code",
   "execution_count": 67,
   "id": "f3bd348a",
   "metadata": {},
   "outputs": [],
   "source": [
    "# Calculate the expected future exchange rate (EUR/USD) using the IFE formula\n",
    "current_exchange_rate_1 = exchange_rate_date_1['Adj Close'].iloc[0]  # Use the first day's rate\n",
    "expected_exchange_rate_1 = current_exchange_rate * (1 + nominal_interest_rate_home_1) / (1 + nominal_interest_rate_foreign_1)"
   ]
  },
  {
   "cell_type": "code",
   "execution_count": 68,
   "id": "d2fba330",
   "metadata": {},
   "outputs": [
    {
     "name": "stdout",
     "output_type": "stream",
     "text": [
      "Expected future CHF/EUR exchange rate: 0.9711\n"
     ]
    }
   ],
   "source": [
    "print(f\"Expected future CHF/EUR exchange rate: {expected_exchange_rate_1:.4f}\")"
   ]
  },
  {
   "cell_type": "code",
   "execution_count": 69,
   "id": "65dbbefb",
   "metadata": {},
   "outputs": [],
   "source": [
    "Ticker_2 = 'USDGBP=X'\n",
    "start_date_2 = '2023-01-01'\n",
    "end_date_2 = '2023-12-31'"
   ]
  },
  {
   "cell_type": "code",
   "execution_count": 70,
   "id": "658de752",
   "metadata": {},
   "outputs": [
    {
     "name": "stdout",
     "output_type": "stream",
     "text": [
      "[*********************100%%**********************]  1 of 1 completed\n"
     ]
    }
   ],
   "source": [
    "data_2 = yf.download(Ticker_2, start=start_date_2, end=end_date_2)"
   ]
  },
  {
   "cell_type": "code",
   "execution_count": 71,
   "id": "465fd51a",
   "metadata": {},
   "outputs": [
    {
     "data": {
      "text/html": [
       "<div>\n",
       "<style scoped>\n",
       "    .dataframe tbody tr th:only-of-type {\n",
       "        vertical-align: middle;\n",
       "    }\n",
       "\n",
       "    .dataframe tbody tr th {\n",
       "        vertical-align: top;\n",
       "    }\n",
       "\n",
       "    .dataframe thead th {\n",
       "        text-align: right;\n",
       "    }\n",
       "</style>\n",
       "<table border=\"1\" class=\"dataframe\">\n",
       "  <thead>\n",
       "    <tr style=\"text-align: right;\">\n",
       "      <th></th>\n",
       "      <th>Open</th>\n",
       "      <th>High</th>\n",
       "      <th>Low</th>\n",
       "      <th>Close</th>\n",
       "      <th>Adj Close</th>\n",
       "      <th>Volume</th>\n",
       "    </tr>\n",
       "    <tr>\n",
       "      <th>Date</th>\n",
       "      <th></th>\n",
       "      <th></th>\n",
       "      <th></th>\n",
       "      <th></th>\n",
       "      <th></th>\n",
       "      <th></th>\n",
       "    </tr>\n",
       "  </thead>\n",
       "  <tbody>\n",
       "    <tr>\n",
       "      <th>2023-10-24</th>\n",
       "      <td>0.81623</td>\n",
       "      <td>0.82240</td>\n",
       "      <td>0.81378</td>\n",
       "      <td>0.81631</td>\n",
       "      <td>0.81631</td>\n",
       "      <td>0</td>\n",
       "    </tr>\n",
       "    <tr>\n",
       "      <th>2023-10-25</th>\n",
       "      <td>0.82215</td>\n",
       "      <td>0.82538</td>\n",
       "      <td>0.82120</td>\n",
       "      <td>0.82224</td>\n",
       "      <td>0.82224</td>\n",
       "      <td>0</td>\n",
       "    </tr>\n",
       "    <tr>\n",
       "      <th>2023-10-26</th>\n",
       "      <td>0.82630</td>\n",
       "      <td>0.82847</td>\n",
       "      <td>0.82427</td>\n",
       "      <td>0.82621</td>\n",
       "      <td>0.82621</td>\n",
       "      <td>0</td>\n",
       "    </tr>\n",
       "    <tr>\n",
       "      <th>2023-10-27</th>\n",
       "      <td>0.82399</td>\n",
       "      <td>0.82600</td>\n",
       "      <td>0.82225</td>\n",
       "      <td>0.82392</td>\n",
       "      <td>0.82392</td>\n",
       "      <td>0</td>\n",
       "    </tr>\n",
       "    <tr>\n",
       "      <th>2023-10-30</th>\n",
       "      <td>0.82482</td>\n",
       "      <td>0.82698</td>\n",
       "      <td>0.82141</td>\n",
       "      <td>0.82187</td>\n",
       "      <td>0.82187</td>\n",
       "      <td>0</td>\n",
       "    </tr>\n",
       "  </tbody>\n",
       "</table>\n",
       "</div>"
      ],
      "text/plain": [
       "               Open     High      Low    Close  Adj Close  Volume\n",
       "Date                                                             \n",
       "2023-10-24  0.81623  0.82240  0.81378  0.81631    0.81631       0\n",
       "2023-10-25  0.82215  0.82538  0.82120  0.82224    0.82224       0\n",
       "2023-10-26  0.82630  0.82847  0.82427  0.82621    0.82621       0\n",
       "2023-10-27  0.82399  0.82600  0.82225  0.82392    0.82392       0\n",
       "2023-10-30  0.82482  0.82698  0.82141  0.82187    0.82187       0"
      ]
     },
     "execution_count": 71,
     "metadata": {},
     "output_type": "execute_result"
    }
   ],
   "source": [
    "data_2.tail()"
   ]
  },
  {
   "cell_type": "code",
   "execution_count": 72,
   "id": "1362aff1",
   "metadata": {},
   "outputs": [],
   "source": [
    "end_date_2 = datetime.now()\n",
    "start_date_2 = end_date_2 - timedelta(days=365)"
   ]
  },
  {
   "cell_type": "code",
   "execution_count": 73,
   "id": "7153a5e6",
   "metadata": {},
   "outputs": [
    {
     "name": "stdout",
     "output_type": "stream",
     "text": [
      "[*********************100%%**********************]  1 of 1 completed\n"
     ]
    }
   ],
   "source": [
    "exchange_rate_date_2 = yf.download(Ticker_2, start=start_date_2, end=end_date_2)"
   ]
  },
  {
   "cell_type": "code",
   "execution_count": 74,
   "id": "e36862ab",
   "metadata": {},
   "outputs": [],
   "source": [
    "spot_exchange_rate_2 = exchange_rate_date_2['Adj Close'].iloc[-1]"
   ]
  },
  {
   "cell_type": "code",
   "execution_count": 75,
   "id": "99b5cdd8",
   "metadata": {},
   "outputs": [
    {
     "data": {
      "text/plain": [
       "0.8218700289726257"
      ]
     },
     "execution_count": 75,
     "metadata": {},
     "output_type": "execute_result"
    }
   ],
   "source": [
    "spot_exchange_rate_2"
   ]
  },
  {
   "cell_type": "code",
   "execution_count": 76,
   "id": "5192a46e",
   "metadata": {},
   "outputs": [],
   "source": [
    "# Define nominal interest rates for the home (EUR) and foreign (USD) countries\n",
    "nominal_interest_rate_home_2 = 0.052  # Example: 1% nominal interest rate in GBP\n",
    "nominal_interest_rate_foreign_2 = 0.052  # Example: 2% nominal interest rate in USD"
   ]
  },
  {
   "cell_type": "code",
   "execution_count": 77,
   "id": "5519ff25",
   "metadata": {},
   "outputs": [],
   "source": [
    "# Calculate the expected future exchange rate (EUR/USD) using the IFE formula\n",
    "current_exchange_rate_2 = exchange_rate_date_2['Adj Close'].iloc[0]  # Use the first day's rate\n",
    "expected_exchange_rate_2 = current_exchange_rate * (1 + nominal_interest_rate_home_2) / (1 + nominal_interest_rate_foreign_2)"
   ]
  },
  {
   "cell_type": "code",
   "execution_count": 79,
   "id": "d39dea7e",
   "metadata": {},
   "outputs": [
    {
     "name": "stdout",
     "output_type": "stream",
     "text": [
      "Expected future USD/GBP exchange rate: 1.0045\n"
     ]
    }
   ],
   "source": [
    "print(f\"Expected future USD/GBP exchange rate: {expected_exchange_rate_2:.4f}\")"
   ]
  },
  {
   "cell_type": "markdown",
   "id": "49d5ac70",
   "metadata": {},
   "source": [
    "The spot rate CHF/EUR cross-rate is closest to USD/EUR * CHF/USD = 0.9416 * 1.1090 = 1.0442"
   ]
  },
  {
   "cell_type": "raw",
   "id": "1488c3c2",
   "metadata": {},
   "source": [
    "the spot rate GBP/EUR cross-rate is closest to USD/EUR * (USD/GBP)*-1 = USD/EUR / GBP/USD = 0.9416/0.82187=1.1362"
   ]
  },
  {
   "cell_type": "markdown",
   "id": "1bdae04a",
   "metadata": {},
   "source": [
    " The euro is the base currency in the USD/EUR quote, and the \n",
    "expected decrease in the USD/EUR rate indicates that the EUR is depreciating \n",
    "(in one year it will cost less USD to buy one EUR). = 1.0210/0.9416 -1 = 0.0843"
   ]
  },
  {
   "cell_type": "raw",
   "id": "ed30a504",
   "metadata": {},
   "source": [
    "The GBP is the base currency in the USD/GBP quote, and the \n",
    "expected decrease in the USD/GBP rate means that the GBP is expected to \n",
    "depreciate against the USD. Or equivalently, the USD is expected to appreciate \n",
    "against the GBP. Mathematically = (1.0045/0.8218)*-1 = 0.8218/1.0045-1=-0.1818"
   ]
  },
  {
   "cell_type": "raw",
   "id": "6ce99ade",
   "metadata": {},
   "source": [
    "According to the table, USD/EUR is expected to decline from 0.9416\n",
    "to 1.0210, while USD/GBP is expected to decline from 0.8218 to 1.0045. So, the \n",
    "USD is expected to be stronger than both the EUR and GBP. GBP/EUR is cur\u0002rently 1.1457 = (0.8218)–1 × 0.9416] and is expected to be 1.0164 = (1.0045)–1× 1.0210], so the EUR is expected to be stronger than the GBP."
   ]
  }
 ],
 "metadata": {
  "kernelspec": {
   "display_name": "Python 3 (ipykernel)",
   "language": "python",
   "name": "python3"
  },
  "language_info": {
   "codemirror_mode": {
    "name": "ipython",
    "version": 3
   },
   "file_extension": ".py",
   "mimetype": "text/x-python",
   "name": "python",
   "nbconvert_exporter": "python",
   "pygments_lexer": "ipython3",
   "version": "3.9.13"
  }
 },
 "nbformat": 4,
 "nbformat_minor": 5
}
